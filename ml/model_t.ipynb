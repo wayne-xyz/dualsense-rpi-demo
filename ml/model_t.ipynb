{
 "cells": [
  {
   "cell_type": "markdown",
   "metadata": {},
   "source": [
    "##  Data Preprocessing\n",
    "\n"
   ]
  },
  {
   "cell_type": "markdown",
   "metadata": {},
   "source": [
    "\n"
   ]
  },
  {
   "cell_type": "code",
   "execution_count": 1,
   "metadata": {},
   "outputs": [],
   "source": [
    "# Combine the two csv(two labels) into one csv file they have the same column names.\n",
    "import pandas as pd\n",
    "\n",
    "\n",
    "\n",
    "table_csv = 'inertial_data_table_1730430426.9533489.csv'\n",
    "hand_csv = 'inertial_data_hand_1730432879.3921478.csv'\n",
    "\n",
    "#  due the 0 value in the first session, delete the session_id=0 for both csv files\n",
    "table_df = pd.read_csv(table_csv)\n",
    "table_df = table_df[table_df['session_id'] != 0]\n",
    "table_df.to_csv('inertial_data_table_1730430426.9533489_processed.csv', index=False)\n",
    "\n",
    "hand_df = pd.read_csv(hand_csv)\n",
    "hand_df = hand_df[hand_df['session_id'] != 0]\n",
    "hand_df.to_csv('inertial_data_hand_1730432879.3921478_processed.csv', index=False)\n",
    "\n",
    "#  combine the two csv files into one csv file\n",
    "table_df = pd.read_csv('inertial_data_table_1730430426.9533489_processed.csv')\n",
    "hand_df = pd.read_csv('inertial_data_hand_1730432879.3921478_processed.csv')\n",
    "combined_df = pd.concat([table_df, hand_df], ignore_index=True)\n",
    "combined_df.to_csv('inertial_data_combined_processed.csv', index=False)\n",
    "\n"
   ]
  },
  {
   "cell_type": "code",
   "execution_count": null,
   "metadata": {},
   "outputs": [],
   "source": [
    "# csv file prepared\n",
    "data_csv = 'inertial_data_combined_processed.csv'\n",
    "\n",
    "\n"
   ]
  },
  {
   "cell_type": "markdown",
   "metadata": {},
   "source": [
    "### 1D CNN Model\n"
   ]
  },
  {
   "cell_type": "code",
   "execution_count": null,
   "metadata": {},
   "outputs": [],
   "source": []
  }
 ],
 "metadata": {
  "kernelspec": {
   "display_name": "base",
   "language": "python",
   "name": "python3"
  },
  "language_info": {
   "codemirror_mode": {
    "name": "ipython",
    "version": 3
   },
   "file_extension": ".py",
   "mimetype": "text/x-python",
   "name": "python",
   "nbconvert_exporter": "python",
   "pygments_lexer": "ipython3",
   "version": "3.11.5"
  }
 },
 "nbformat": 4,
 "nbformat_minor": 2
}

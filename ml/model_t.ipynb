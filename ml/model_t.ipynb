{
 "cells": [
  {
   "cell_type": "markdown",
   "metadata": {},
   "source": [
    "##  Data Preprocessing\n",
    "\n"
   ]
  },
  {
   "cell_type": "markdown",
   "metadata": {},
   "source": [
    "\n"
   ]
  },
  {
   "cell_type": "code",
   "execution_count": 16,
   "metadata": {},
   "outputs": [],
   "source": [
    "# Combine the two csv(two labels) into one csv file they have the same column names.\n",
    "import pandas as pd\n",
    "\n",
    "\n",
    "\n",
    "table_csv = 'inertial_data_table_1730446449.2779398.csv'\n",
    "hand_csv = 'inertial_data_hand_1730446565.1342528.csv'\n",
    "\n",
    "#  due the 0 value in the first session, delete the session_id=0 for both csv files\n",
    "table_df = pd.read_csv(table_csv)\n",
    "table_df = table_df[table_df['session_id'] != 0]\n",
    "table_df.to_csv('inertial_data_table_processed.csv', index=False)\n",
    "\n",
    "hand_df = pd.read_csv(hand_csv)\n",
    "hand_df = hand_df[hand_df['session_id'] != 0]\n",
    "hand_df.to_csv('inertial_data_hand_processed.csv', index=False)\n",
    "\n",
    "#  combine the two csv files into one csv file\n",
    "table_df = pd.read_csv('inertial_data_table_processed.csv')\n",
    "hand_df = pd.read_csv('inertial_data_hand_processed.csv')\n",
    "combined_df = pd.concat([table_df, hand_df], ignore_index=True)\n",
    "combined_df.to_csv('inertial_data_combined_processed.csv', index=False)\n",
    "\n"
   ]
  },
  {
   "cell_type": "code",
   "execution_count": 17,
   "metadata": {},
   "outputs": [],
   "source": [
    "# csv file ready\n",
    "data_csv = 'inertial_data_combined_processed.csv'\n",
    "\n",
    "\n"
   ]
  },
  {
   "cell_type": "markdown",
   "metadata": {},
   "source": [
    "### 1D CNN Model\n"
   ]
  },
  {
   "cell_type": "code",
   "execution_count": 18,
   "metadata": {},
   "outputs": [
    {
     "name": "stdout",
     "output_type": "stream",
     "text": [
      "2.16.1\n"
     ]
    }
   ],
   "source": [
    "import tensorflow as tf\n",
    "print(tf.__version__)\n"
   ]
  },
  {
   "cell_type": "code",
   "execution_count": 19,
   "metadata": {},
   "outputs": [
    {
     "name": "stdout",
     "output_type": "stream",
     "text": [
      "['timestamp', 'gyroscope_pitch', 'gyroscope_yaw', 'gyroscope_roll', 'accelerometer_x', 'accelerometer_y', 'accelerometer_z', 'session_id', 'label']\n",
      "['timestamp', 'gyroscope_pitch', 'gyroscope_yaw', 'gyroscope_roll', 'accelerometer_x', 'accelerometer_y', 'accelerometer_z', 'session_id']\n",
      "label\n",
      "      timestamp  gyroscope_pitch  gyroscope_yaw  gyroscope_roll  \\\n",
      "0  1.730446e+09             -475           8031            1101   \n",
      "1  1.730446e+09             -475           8031            1101   \n",
      "2  1.730446e+09             -475           8031            1101   \n",
      "3  1.730446e+09             -521           8065            1113   \n",
      "4  1.730446e+09             -521           8065            1113   \n",
      "\n",
      "   accelerometer_x  accelerometer_y  accelerometer_z  session_id  label  \n",
      "0                1                2                7           1  table  \n",
      "1                1                2                7           1  table  \n",
      "2                1                2                7           1  table  \n",
      "3               -2                2               10           1  table  \n",
      "4               -2                2               10           1  table  \n",
      "(188863, 8)\n",
      "(188863,)\n",
      "(188863, 8, 1)\n"
     ]
    }
   ],
   "source": [
    "# create a 1D CNN model \n",
    "from sklearn.preprocessing import StandardScaler\n",
    "from datetime import datetime\n",
    "\n",
    "data_df = pd.read_csv(data_csv)\n",
    "\n",
    "all_columns = data_df.columns.tolist() \n",
    "print(all_columns)\n",
    "\n",
    "\n",
    "\n",
    "#define the features and label\n",
    "features = all_columns[:-1]\n",
    "label = all_columns[-1]\n",
    "\n",
    "print(features)\n",
    "print(label)\n",
    "print(data_df.head())\n",
    "\n",
    "x=data_df[features]\n",
    "y=data_df[label]\n",
    "\n",
    "print(x.shape)\n",
    "print(y.shape)\n",
    "\n",
    "# normalize the features using standard scaler\n",
    "scaler = StandardScaler()\n",
    "x_scaled = scaler.fit_transform(x)\n",
    "\n",
    "# Reshape the data for the CNN model\n",
    "x_reshaped = x_scaled.reshape(x_scaled.shape[0], x_scaled.shape[1], 1)\n",
    "\n",
    "\n"
   ]
  },
  {
   "cell_type": "code",
   "execution_count": 21,
   "metadata": {},
   "outputs": [
    {
     "name": "stdout",
     "output_type": "stream",
     "text": [
      "(188863, 8, 1)\n",
      "[[-1.66493383 -1.66491761 -1.66490161 ...  1.66537978  1.66539578\n",
      "   1.66541219]\n",
      " [ 0.06504365  0.06504365  0.06504365 ...  0.74469173  0.74469173\n",
      "   0.74469173]\n",
      " [ 0.79122393  0.79122393  0.79122393 ... -0.8102265  -0.8102265\n",
      "  -0.8102265 ]\n",
      " ...\n",
      " [ 0.01607026  0.01607026  0.01607026 ...  0.7175835   0.7175835\n",
      "   0.7175835 ]\n",
      " [-0.01348936 -0.01348936 -0.01348936 ... -0.47154587 -0.47154587\n",
      "  -0.47154587]\n",
      " [-1.72326329 -1.72326329 -1.72326329 ...  1.7234668   1.7234668\n",
      "   1.7234668 ]]\n"
     ]
    }
   ],
   "source": [
    "print(x_reshaped.shape)\n",
    "\n",
    "print(x_reshaped.base)"
   ]
  },
  {
   "cell_type": "code",
   "execution_count": null,
   "metadata": {},
   "outputs": [],
   "source": []
  }
 ],
 "metadata": {
  "kernelspec": {
   "display_name": "base",
   "language": "python",
   "name": "python3"
  },
  "language_info": {
   "codemirror_mode": {
    "name": "ipython",
    "version": 3
   },
   "file_extension": ".py",
   "mimetype": "text/x-python",
   "name": "python",
   "nbconvert_exporter": "python",
   "pygments_lexer": "ipython3",
   "version": "3.11.5"
  }
 },
 "nbformat": 4,
 "nbformat_minor": 2
}

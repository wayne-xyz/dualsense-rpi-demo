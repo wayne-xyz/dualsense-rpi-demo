{
 "cells": [
  {
   "cell_type": "markdown",
   "metadata": {},
   "source": [
    "# GripPrint\n",
    "- Unique \"fingerprint\" based on how users grip and interact with the dualsense controller.\n"
   ]
  },
  {
   "cell_type": "markdown",
   "metadata": {},
   "source": [
    "### Model 1 Minimuan validation model- ontable or onhand\n"
   ]
  },
  {
   "cell_type": "markdown",
   "metadata": {},
   "source": [
    "#### Collect data"
   ]
  },
  {
   "cell_type": "code",
   "execution_count": 6,
   "metadata": {},
   "outputs": [
    {
     "name": "stdout",
     "output_type": "stream",
     "text": [
      "✅ Controller connected\n",
      "Is the controller connected? True\n"
     ]
    }
   ],
   "source": [
    "# define a function to check the connection of the dualsense controller\n",
    "\n",
    "def check_controller_connection():\n",
    "    try:\n",
    "        dualsense = ds.pydualsense()\n",
    "        # Try to find and open the device\n",
    "        device = dualsense._pydualsense__find_device()  # Access private method with name mangling\n",
    "        if device:\n",
    "            print(\"✅ Controller connected\")\n",
    "            connected = True\n",
    "        else:\n",
    "            print(\"❌ Controller not connected\")\n",
    "            connected = False\n",
    "            \n",
    "    except Exception as e:\n",
    "        print(\"❌ Controller not connected\")\n",
    "        connected = False\n",
    "    finally:\n",
    "        if 'device' in locals():\n",
    "            try:\n",
    "                device.close()\n",
    "            except:\n",
    "                pass\n",
    "    \n",
    "    return connected\n",
    "\n",
    "\n",
    "\n",
    "print(\"Is the controller connected?\", check_controller_connection())"
   ]
  },
  {
   "cell_type": "code",
   "execution_count": 7,
   "metadata": {},
   "outputs": [],
   "source": [
    "# define a function to collect data from the dualsense controller with two labels: ontable and onhand\n",
    "# save the data to a csv file\n",
    "\n",
    "import os\n",
    "import time\n",
    "import pandas as pd\n",
    "import pydualsense as ds\n",
    "\n",
    "table_colunm=[\"timestamp\", \"gyroscope_pitch\", \"gyroscope_yaw\", \"gyroscope_roll\", \"accelerometer_x\", \"accelerometer_y\", \"accelerometer_z\", \"session_id\", \"label\"]\n",
    "\n",
    "\n",
    "def simple_data_collection(label: str, session_time: int = 500, collection_duration: int = 100000, csvfile_name:str=\"Simple_data.csv\"):\n",
    "    # parameters:\n",
    "    # label: the label of the data collection\n",
    "    # session_time: the time segment of the data collection in milliseconds\n",
    "    # collection_duration: the duration of the data collection in milliseconds\n",
    "\n",
    "    dualsense = ds.pydualsense()\n",
    "    dualsense.init()    \n",
    "\n",
    "    #  get the timestamp of the data collection\n",
    "    timestamp = time.time()\n",
    "\n",
    "    #  get the inertial data from the dualsense controller\n",
    "    inertial_data = []\n",
    "    start_time = time.time()\n",
    "    session_id = int(time.time())\n",
    "    \n",
    "    while (time.time() - start_time) * 1000 < collection_duration:\n",
    "        current_time = time.time()\n",
    "        # Get sensor data from dualsense\n",
    "        gyro = dualsense.state.gyro\n",
    "        accel = dualsense.state.accelerometer\n",
    "        \n",
    "        # Create a data point\n",
    "        data_point = [\n",
    "            current_time,\n",
    "            gyro.Pitch, gyro.Yaw, gyro.Roll,\n",
    "            accel.X, accel.Y, accel.Z,\n",
    "            session_id,\n",
    "            label\n",
    "        ]\n",
    "\n",
    "        # update the data point in the console in one line \n",
    "        print(data_point, end='\\r')\n",
    "\n",
    "        #  append the data point to the inertial data\n",
    "        inertial_data.append(data_point)\n",
    "        \n",
    "        # Update session_id every session_time milliseconds\n",
    "        if ( current_time - start_time) * 1000 // session_time > session_id:\n",
    "            session_id += 1\n",
    "            \n",
    "        time.sleep(0.001)  # Small delay to prevent overwhelming the controller\n",
    "    \n",
    "    #  save the inertial data to a csv file\n",
    "    df = pd.DataFrame(inertial_data, columns=table_colunm)\n",
    "    \n",
    "    \n",
    "\n",
    " \n",
    "    # Use csvfile_name as the target file\n",
    "    if os.path.exists(csvfile_name):\n",
    "        # Append data without header\n",
    "        df.to_csv(csvfile_name, mode='a', header=False, index=False)\n",
    "        print(f'Data appended to existing {csvfile_name}')\n",
    "    else:\n",
    "        # Create new file with header\n",
    "        df.to_csv(csvfile_name, index=False)\n",
    "        print(f'New file {csvfile_name} created')\n",
    "\n",
    "    dualsense.close()\n",
    "\n",
    "\n",
    "\n",
    "\n",
    "\n",
    "\n",
    "\n"
   ]
  },
  {
   "cell_type": "markdown",
   "metadata": {},
   "source": [
    "##### write a table for describing the data table column:\n",
    "\n",
    "| Column Name | Description | Data Type | Unit/Range | \n",
    "|------------|-------------|-----------|------------| \n",
    "| timestamp | Time when the data was recorded | Numeric | Unix timestamp or datetime |\n",
    " | gyroscope_pitch | Rotation around the X-axis (front-to-back tilt) | Numeric | Degrees or Radians | \n",
    " | gyroscope_yaw | Rotation around the Y-axis (left-to-right turn) | Numeric | Degrees or Radians | \n",
    " | gyroscope_roll | Rotation around the Z-axis (side-to-side tilt) | Numeric | Degrees or Radians | \n",
    " | accelerometer_x | Linear acceleration along X-axis (left/right) | Numeric | m/s² or g-force | \n",
    " | accelerometer_y | Linear acceleration along Y-axis (forward/backward) | Numeric | m/s² or g-force |\n",
    "  | accelerometer_z | Linear acceleration along Z-axis (up/down) | Numeric | m/s² or g-force | \n",
    "  | session_id | Unique identifier for each recording session | String/Integer | Identifier, collect 500 rows as one session |\n",
    "   | label | Classification label or target variable | String/Integer | Class identifier |"
   ]
  },
  {
   "cell_type": "markdown",
   "metadata": {},
   "source": [
    "##  Data Preprocessing\n",
    "\n"
   ]
  },
  {
   "cell_type": "code",
   "execution_count": 16,
   "metadata": {},
   "outputs": [],
   "source": [
    "# Combine the two csv(two labels) into one csv file they have the same column names.\n",
    "import pandas as pd\n",
    "\n",
    "\n",
    "\n",
    "table_csv = 'inertial_data_table_1730446449.2779398.csv'\n",
    "hand_csv = 'inertial_data_hand_1730446565.1342528.csv'\n",
    "\n",
    "#  due the 0 value in the first session, delete the session_id=0 for both csv files\n",
    "table_df = pd.read_csv(table_csv)\n",
    "table_df = table_df[table_df['session_id'] != 0]\n",
    "table_df.to_csv('inertial_data_table_processed.csv', index=False)\n",
    "\n",
    "hand_df = pd.read_csv(hand_csv)\n",
    "hand_df = hand_df[hand_df['session_id'] != 0]\n",
    "hand_df.to_csv('inertial_data_hand_processed.csv', index=False)\n",
    "\n",
    "#  combine the two csv files into one csv file\n",
    "table_df = pd.read_csv('inertial_data_table_processed.csv')\n",
    "hand_df = pd.read_csv('inertial_data_hand_processed.csv')\n",
    "combined_df = pd.concat([table_df, hand_df], ignore_index=True)\n",
    "combined_df.to_csv('inertial_data_combined_processed.csv', index=False)\n",
    "\n"
   ]
  },
  {
   "cell_type": "markdown",
   "metadata": {},
   "source": [
    "### 1D CNN Model\n"
   ]
  },
  {
   "cell_type": "code",
   "execution_count": 1,
   "metadata": {},
   "outputs": [],
   "source": [
    "# csv file ready\n",
    "data_csv = 'inertial_data_combined_processed.csv'\n"
   ]
  },
  {
   "cell_type": "code",
   "execution_count": 2,
   "metadata": {},
   "outputs": [
    {
     "name": "stdout",
     "output_type": "stream",
     "text": [
      "2.16.1\n"
     ]
    }
   ],
   "source": [
    "import tensorflow as tf\n",
    "print(tf.__version__)\n"
   ]
  },
  {
   "cell_type": "code",
   "execution_count": 29,
   "metadata": {},
   "outputs": [
    {
     "name": "stdout",
     "output_type": "stream",
     "text": [
      "['timestamp', 'gyroscope_pitch', 'gyroscope_yaw', 'gyroscope_roll', 'accelerometer_x', 'accelerometer_y', 'accelerometer_z', 'session_id', 'label']\n",
      "Features: ['timestamp', 'gyroscope_pitch', 'gyroscope_yaw', 'gyroscope_roll', 'accelerometer_x', 'accelerometer_y', 'accelerometer_z', 'session_id']\n",
      "Label: label\n",
      "Skipping session 150 - insufficient length\n",
      "Skipping session 225 - insufficient length\n",
      "Skipping session 349 - insufficient length\n",
      "Sequence shape: (395, 470, 6)\n",
      "\n",
      "Data shapes:\n",
      "X sequences shape: (395, 470, 6)\n",
      "Y sequences shape: (395,)\n",
      "\n",
      "Train/Test shapes:\n",
      "X train shape: (316, 470, 6)\n",
      "X test shape: (79, 470, 6)\n",
      "Y train shape: (316,)\n",
      "Y test shape: (79,)\n"
     ]
    }
   ],
   "source": [
    "# create a 1D CNN model \n",
    "from sklearn.preprocessing import StandardScaler\n",
    "from datetime import datetime\n",
    "import numpy as np\n",
    "import pandas as pd\n",
    "from sklearn.preprocessing import LabelEncoder\n",
    "from sklearn.preprocessing import StandardScaler, LabelEncoder\n",
    "from sklearn.model_selection import train_test_split\n",
    "\n",
    "data_df = pd.read_csv(data_csv)\n",
    "\n",
    "all_columns = data_df.columns.tolist() \n",
    "print(all_columns)\n",
    "\n",
    "# Define each session length be 470\n",
    "SESSION_LENGTH=470\n",
    "\n",
    "\n",
    "# Define features and label\n",
    "features = all_columns[:-1]  # all columns except label\n",
    "label = all_columns[-1]      # label column\n",
    "print(\"Features:\", features)\n",
    "print(\"Label:\", label)\n",
    "\n",
    "# Define features explicitly (excluding session_id)\n",
    "numeric_features = ['gyroscope_pitch', 'gyroscope_yaw', 'gyroscope_roll', \n",
    "                   'accelerometer_x', 'accelerometer_y', 'accelerometer_z']\n",
    "N_FEATURES = len(numeric_features)  # Should be 6\n",
    "\n",
    "def create_sequences(data, labels, session_length=SESSION_LENGTH):\n",
    "    sequences = []\n",
    "    sequence_labels = []\n",
    "    \n",
    "    for session_id in data['session_id'].unique():\n",
    "        # Get data for this session\n",
    "        session_data = data[data['session_id'] == session_id]\n",
    "        session_label = labels[data['session_id'] == session_id].iloc[0]\n",
    "        \n",
    "        # Take first session_length rows\n",
    "        session_data = session_data.head(session_length)\n",
    "        \n",
    "        # Skip if session has less than required length\n",
    "        if len(session_data) < session_length:\n",
    "            print(f\"Skipping session {session_id} - insufficient length\")\n",
    "            continue\n",
    "            \n",
    "        # Extract only numeric features (excluding session_id)\n",
    "        sequence = session_data[numeric_features].values\n",
    "        sequences.append(sequence)\n",
    "        sequence_labels.append(session_label)\n",
    "    \n",
    "    sequences = np.array(sequences)\n",
    "    sequence_labels = np.array(sequence_labels)\n",
    "    \n",
    "    print(f\"Sequence shape: {sequences.shape}\")  # Should be (n_sessions, session_length, 6)\n",
    "    return sequences, sequence_labels\n",
    "\n",
    "# Normalize only the numeric features\n",
    "scaler = StandardScaler()\n",
    "data_df[numeric_features] = scaler.fit_transform(data_df[numeric_features])\n",
    "\n",
    "# Create sequences\n",
    "x_sequences, y_sequences = create_sequences(\n",
    "    data_df,\n",
    "    data_df[label],\n",
    "    session_length=SESSION_LENGTH\n",
    ")\n",
    "\n",
    "# Verify the shape\n",
    "print(\"\\nData shapes:\")\n",
    "print(f\"X sequences shape: {x_sequences.shape}\")  # Should be (n_sessions, SESSION_LENGTH, 6)\n",
    "print(f\"Y sequences shape: {y_sequences.shape}\")  # Should be (n_sessions,)\n",
    "\n",
    "# Encode labels\n",
    "label_encoder = LabelEncoder()\n",
    "y = label_encoder.fit_transform(y_sequences)\n",
    "\n",
    "# Split data\n",
    "x_train, x_test, y_train, y_test = train_test_split(\n",
    "    x_sequences, y, test_size=0.2, random_state=42\n",
    ")\n",
    "\n",
    "print(\"\\nTrain/Test shapes:\")\n",
    "print(f\"X train shape: {x_train.shape}\")  # Should have 6 features\n",
    "print(f\"X test shape: {x_test.shape}\")    # Should have 6 features\n",
    "print(f\"Y train shape: {y_train.shape}\")\n",
    "print(f\"Y test shape: {y_test.shape}\")\n",
    "\n"
   ]
  },
  {
   "cell_type": "code",
   "execution_count": 30,
   "metadata": {},
   "outputs": [],
   "source": [
    "# split the data into training and testing sets\n",
    "from sklearn.model_selection import train_test_split\n",
    "\n",
    "N_FEATURES=6\n",
    "\n",
    "def build_1d_cnn_model(input_shape=(SESSION_LENGTH, N_FEATURES), output_shape=1):\n",
    "    inputs = tf.keras.Input(shape=input_shape)\n",
    "    \n",
    "    # First Conv1D block\n",
    "    x = tf.keras.layers.Conv1D(filters=64, kernel_size=3, activation='relu')(inputs)\n",
    "    x = tf.keras.layers.MaxPooling1D(pool_size=2)(x)\n",
    "    \n",
    "    # Second Conv1D block\n",
    "    x = tf.keras.layers.Conv1D(filters=32, kernel_size=3, activation='relu')(x)\n",
    "    x = tf.keras.layers.MaxPooling1D(pool_size=2)(x)\n",
    "    \n",
    "    # Dense layers\n",
    "    x = tf.keras.layers.Flatten()(x)\n",
    "    x = tf.keras.layers.Dense(64, activation='relu')(x)\n",
    "    x = tf.keras.layers.Dropout(0.5)(x)\n",
    "    outputs = tf.keras.layers.Dense(output_shape, activation='sigmoid')(x)\n",
    "    \n",
    "    model = tf.keras.Model(inputs=inputs, outputs=outputs)\n",
    "    return model\n",
    "\n",
    "\n",
    "\n",
    "\n"
   ]
  },
  {
   "cell_type": "code",
   "execution_count": 31,
   "metadata": {},
   "outputs": [
    {
     "name": "stdout",
     "output_type": "stream",
     "text": [
      "\n",
      "Model Summary:\n"
     ]
    },
    {
     "data": {
      "text/html": [
       "<pre style=\"white-space:pre;overflow-x:auto;line-height:normal;font-family:Menlo,'DejaVu Sans Mono',consolas,'Courier New',monospace\"><span style=\"font-weight: bold\">Model: \"functional_9\"</span>\n",
       "</pre>\n"
      ],
      "text/plain": [
       "\u001b[1mModel: \"functional_9\"\u001b[0m\n"
      ]
     },
     "metadata": {},
     "output_type": "display_data"
    },
    {
     "data": {
      "text/html": [
       "<pre style=\"white-space:pre;overflow-x:auto;line-height:normal;font-family:Menlo,'DejaVu Sans Mono',consolas,'Courier New',monospace\">┏━━━━━━━━━━━━━━━━━━━━━━━━━━━━━━━━━┳━━━━━━━━━━━━━━━━━━━━━━━━┳━━━━━━━━━━━━━━━┓\n",
       "┃<span style=\"font-weight: bold\"> Layer (type)                    </span>┃<span style=\"font-weight: bold\"> Output Shape           </span>┃<span style=\"font-weight: bold\">       Param # </span>┃\n",
       "┡━━━━━━━━━━━━━━━━━━━━━━━━━━━━━━━━━╇━━━━━━━━━━━━━━━━━━━━━━━━╇━━━━━━━━━━━━━━━┩\n",
       "│ input_layer_4 (<span style=\"color: #0087ff; text-decoration-color: #0087ff\">InputLayer</span>)      │ (<span style=\"color: #00d7ff; text-decoration-color: #00d7ff\">None</span>, <span style=\"color: #00af00; text-decoration-color: #00af00\">470</span>, <span style=\"color: #00af00; text-decoration-color: #00af00\">6</span>)         │             <span style=\"color: #00af00; text-decoration-color: #00af00\">0</span> │\n",
       "├─────────────────────────────────┼────────────────────────┼───────────────┤\n",
       "│ conv1d_6 (<span style=\"color: #0087ff; text-decoration-color: #0087ff\">Conv1D</span>)               │ (<span style=\"color: #00d7ff; text-decoration-color: #00d7ff\">None</span>, <span style=\"color: #00af00; text-decoration-color: #00af00\">468</span>, <span style=\"color: #00af00; text-decoration-color: #00af00\">64</span>)        │         <span style=\"color: #00af00; text-decoration-color: #00af00\">1,216</span> │\n",
       "├─────────────────────────────────┼────────────────────────┼───────────────┤\n",
       "│ max_pooling1d_6 (<span style=\"color: #0087ff; text-decoration-color: #0087ff\">MaxPooling1D</span>)  │ (<span style=\"color: #00d7ff; text-decoration-color: #00d7ff\">None</span>, <span style=\"color: #00af00; text-decoration-color: #00af00\">234</span>, <span style=\"color: #00af00; text-decoration-color: #00af00\">64</span>)        │             <span style=\"color: #00af00; text-decoration-color: #00af00\">0</span> │\n",
       "├─────────────────────────────────┼────────────────────────┼───────────────┤\n",
       "│ conv1d_7 (<span style=\"color: #0087ff; text-decoration-color: #0087ff\">Conv1D</span>)               │ (<span style=\"color: #00d7ff; text-decoration-color: #00d7ff\">None</span>, <span style=\"color: #00af00; text-decoration-color: #00af00\">232</span>, <span style=\"color: #00af00; text-decoration-color: #00af00\">32</span>)        │         <span style=\"color: #00af00; text-decoration-color: #00af00\">6,176</span> │\n",
       "├─────────────────────────────────┼────────────────────────┼───────────────┤\n",
       "│ max_pooling1d_7 (<span style=\"color: #0087ff; text-decoration-color: #0087ff\">MaxPooling1D</span>)  │ (<span style=\"color: #00d7ff; text-decoration-color: #00d7ff\">None</span>, <span style=\"color: #00af00; text-decoration-color: #00af00\">116</span>, <span style=\"color: #00af00; text-decoration-color: #00af00\">32</span>)        │             <span style=\"color: #00af00; text-decoration-color: #00af00\">0</span> │\n",
       "├─────────────────────────────────┼────────────────────────┼───────────────┤\n",
       "│ flatten_4 (<span style=\"color: #0087ff; text-decoration-color: #0087ff\">Flatten</span>)             │ (<span style=\"color: #00d7ff; text-decoration-color: #00d7ff\">None</span>, <span style=\"color: #00af00; text-decoration-color: #00af00\">3712</span>)           │             <span style=\"color: #00af00; text-decoration-color: #00af00\">0</span> │\n",
       "├─────────────────────────────────┼────────────────────────┼───────────────┤\n",
       "│ dense_5 (<span style=\"color: #0087ff; text-decoration-color: #0087ff\">Dense</span>)                 │ (<span style=\"color: #00d7ff; text-decoration-color: #00d7ff\">None</span>, <span style=\"color: #00af00; text-decoration-color: #00af00\">64</span>)             │       <span style=\"color: #00af00; text-decoration-color: #00af00\">237,632</span> │\n",
       "├─────────────────────────────────┼────────────────────────┼───────────────┤\n",
       "│ dropout_1 (<span style=\"color: #0087ff; text-decoration-color: #0087ff\">Dropout</span>)             │ (<span style=\"color: #00d7ff; text-decoration-color: #00d7ff\">None</span>, <span style=\"color: #00af00; text-decoration-color: #00af00\">64</span>)             │             <span style=\"color: #00af00; text-decoration-color: #00af00\">0</span> │\n",
       "├─────────────────────────────────┼────────────────────────┼───────────────┤\n",
       "│ dense_6 (<span style=\"color: #0087ff; text-decoration-color: #0087ff\">Dense</span>)                 │ (<span style=\"color: #00d7ff; text-decoration-color: #00d7ff\">None</span>, <span style=\"color: #00af00; text-decoration-color: #00af00\">1</span>)              │            <span style=\"color: #00af00; text-decoration-color: #00af00\">65</span> │\n",
       "└─────────────────────────────────┴────────────────────────┴───────────────┘\n",
       "</pre>\n"
      ],
      "text/plain": [
       "┏━━━━━━━━━━━━━━━━━━━━━━━━━━━━━━━━━┳━━━━━━━━━━━━━━━━━━━━━━━━┳━━━━━━━━━━━━━━━┓\n",
       "┃\u001b[1m \u001b[0m\u001b[1mLayer (type)                   \u001b[0m\u001b[1m \u001b[0m┃\u001b[1m \u001b[0m\u001b[1mOutput Shape          \u001b[0m\u001b[1m \u001b[0m┃\u001b[1m \u001b[0m\u001b[1m      Param #\u001b[0m\u001b[1m \u001b[0m┃\n",
       "┡━━━━━━━━━━━━━━━━━━━━━━━━━━━━━━━━━╇━━━━━━━━━━━━━━━━━━━━━━━━╇━━━━━━━━━━━━━━━┩\n",
       "│ input_layer_4 (\u001b[38;5;33mInputLayer\u001b[0m)      │ (\u001b[38;5;45mNone\u001b[0m, \u001b[38;5;34m470\u001b[0m, \u001b[38;5;34m6\u001b[0m)         │             \u001b[38;5;34m0\u001b[0m │\n",
       "├─────────────────────────────────┼────────────────────────┼───────────────┤\n",
       "│ conv1d_6 (\u001b[38;5;33mConv1D\u001b[0m)               │ (\u001b[38;5;45mNone\u001b[0m, \u001b[38;5;34m468\u001b[0m, \u001b[38;5;34m64\u001b[0m)        │         \u001b[38;5;34m1,216\u001b[0m │\n",
       "├─────────────────────────────────┼────────────────────────┼───────────────┤\n",
       "│ max_pooling1d_6 (\u001b[38;5;33mMaxPooling1D\u001b[0m)  │ (\u001b[38;5;45mNone\u001b[0m, \u001b[38;5;34m234\u001b[0m, \u001b[38;5;34m64\u001b[0m)        │             \u001b[38;5;34m0\u001b[0m │\n",
       "├─────────────────────────────────┼────────────────────────┼───────────────┤\n",
       "│ conv1d_7 (\u001b[38;5;33mConv1D\u001b[0m)               │ (\u001b[38;5;45mNone\u001b[0m, \u001b[38;5;34m232\u001b[0m, \u001b[38;5;34m32\u001b[0m)        │         \u001b[38;5;34m6,176\u001b[0m │\n",
       "├─────────────────────────────────┼────────────────────────┼───────────────┤\n",
       "│ max_pooling1d_7 (\u001b[38;5;33mMaxPooling1D\u001b[0m)  │ (\u001b[38;5;45mNone\u001b[0m, \u001b[38;5;34m116\u001b[0m, \u001b[38;5;34m32\u001b[0m)        │             \u001b[38;5;34m0\u001b[0m │\n",
       "├─────────────────────────────────┼────────────────────────┼───────────────┤\n",
       "│ flatten_4 (\u001b[38;5;33mFlatten\u001b[0m)             │ (\u001b[38;5;45mNone\u001b[0m, \u001b[38;5;34m3712\u001b[0m)           │             \u001b[38;5;34m0\u001b[0m │\n",
       "├─────────────────────────────────┼────────────────────────┼───────────────┤\n",
       "│ dense_5 (\u001b[38;5;33mDense\u001b[0m)                 │ (\u001b[38;5;45mNone\u001b[0m, \u001b[38;5;34m64\u001b[0m)             │       \u001b[38;5;34m237,632\u001b[0m │\n",
       "├─────────────────────────────────┼────────────────────────┼───────────────┤\n",
       "│ dropout_1 (\u001b[38;5;33mDropout\u001b[0m)             │ (\u001b[38;5;45mNone\u001b[0m, \u001b[38;5;34m64\u001b[0m)             │             \u001b[38;5;34m0\u001b[0m │\n",
       "├─────────────────────────────────┼────────────────────────┼───────────────┤\n",
       "│ dense_6 (\u001b[38;5;33mDense\u001b[0m)                 │ (\u001b[38;5;45mNone\u001b[0m, \u001b[38;5;34m1\u001b[0m)              │            \u001b[38;5;34m65\u001b[0m │\n",
       "└─────────────────────────────────┴────────────────────────┴───────────────┘\n"
      ]
     },
     "metadata": {},
     "output_type": "display_data"
    },
    {
     "data": {
      "text/html": [
       "<pre style=\"white-space:pre;overflow-x:auto;line-height:normal;font-family:Menlo,'DejaVu Sans Mono',consolas,'Courier New',monospace\"><span style=\"font-weight: bold\"> Total params: </span><span style=\"color: #00af00; text-decoration-color: #00af00\">245,089</span> (957.38 KB)\n",
       "</pre>\n"
      ],
      "text/plain": [
       "\u001b[1m Total params: \u001b[0m\u001b[38;5;34m245,089\u001b[0m (957.38 KB)\n"
      ]
     },
     "metadata": {},
     "output_type": "display_data"
    },
    {
     "data": {
      "text/html": [
       "<pre style=\"white-space:pre;overflow-x:auto;line-height:normal;font-family:Menlo,'DejaVu Sans Mono',consolas,'Courier New',monospace\"><span style=\"font-weight: bold\"> Trainable params: </span><span style=\"color: #00af00; text-decoration-color: #00af00\">245,089</span> (957.38 KB)\n",
       "</pre>\n"
      ],
      "text/plain": [
       "\u001b[1m Trainable params: \u001b[0m\u001b[38;5;34m245,089\u001b[0m (957.38 KB)\n"
      ]
     },
     "metadata": {},
     "output_type": "display_data"
    },
    {
     "data": {
      "text/html": [
       "<pre style=\"white-space:pre;overflow-x:auto;line-height:normal;font-family:Menlo,'DejaVu Sans Mono',consolas,'Courier New',monospace\"><span style=\"font-weight: bold\"> Non-trainable params: </span><span style=\"color: #00af00; text-decoration-color: #00af00\">0</span> (0.00 B)\n",
       "</pre>\n"
      ],
      "text/plain": [
       "\u001b[1m Non-trainable params: \u001b[0m\u001b[38;5;34m0\u001b[0m (0.00 B)\n"
      ]
     },
     "metadata": {},
     "output_type": "display_data"
    }
   ],
   "source": [
    "\n",
    "# Create and compile model\n",
    "model = build_1d_cnn_model()\n",
    "model.compile(\n",
    "    optimizer='adam',\n",
    "    loss='binary_crossentropy',\n",
    "    metrics=['accuracy']\n",
    ")\n",
    "\n",
    "# Print model summary\n",
    "print(\"\\nModel Summary:\")\n",
    "model.summary()"
   ]
  },
  {
   "cell_type": "code",
   "execution_count": 32,
   "metadata": {},
   "outputs": [
    {
     "name": "stdout",
     "output_type": "stream",
     "text": [
      "Epoch 1/10\n",
      "\u001b[1m8/8\u001b[0m \u001b[32m━━━━━━━━━━━━━━━━━━━━\u001b[0m\u001b[37m\u001b[0m \u001b[1m1s\u001b[0m 22ms/step - accuracy: 0.7375 - loss: 0.5027 - val_accuracy: 1.0000 - val_loss: 0.0608\n",
      "Epoch 2/10\n",
      "\u001b[1m8/8\u001b[0m \u001b[32m━━━━━━━━━━━━━━━━━━━━\u001b[0m\u001b[37m\u001b[0m \u001b[1m0s\u001b[0m 7ms/step - accuracy: 1.0000 - loss: 0.0409 - val_accuracy: 1.0000 - val_loss: 0.0012\n",
      "Epoch 3/10\n",
      "\u001b[1m8/8\u001b[0m \u001b[32m━━━━━━━━━━━━━━━━━━━━\u001b[0m\u001b[37m\u001b[0m \u001b[1m0s\u001b[0m 6ms/step - accuracy: 1.0000 - loss: 0.0032 - val_accuracy: 1.0000 - val_loss: 3.2073e-05\n",
      "Epoch 4/10\n",
      "\u001b[1m8/8\u001b[0m \u001b[32m━━━━━━━━━━━━━━━━━━━━\u001b[0m\u001b[37m\u001b[0m \u001b[1m0s\u001b[0m 6ms/step - accuracy: 1.0000 - loss: 7.6220e-04 - val_accuracy: 1.0000 - val_loss: 3.1886e-06\n",
      "Epoch 5/10\n",
      "\u001b[1m8/8\u001b[0m \u001b[32m━━━━━━━━━━━━━━━━━━━━\u001b[0m\u001b[37m\u001b[0m \u001b[1m0s\u001b[0m 7ms/step - accuracy: 1.0000 - loss: 2.1098e-04 - val_accuracy: 1.0000 - val_loss: 8.6833e-07\n",
      "Epoch 6/10\n",
      "\u001b[1m8/8\u001b[0m \u001b[32m━━━━━━━━━━━━━━━━━━━━\u001b[0m\u001b[37m\u001b[0m \u001b[1m0s\u001b[0m 7ms/step - accuracy: 1.0000 - loss: 1.4839e-04 - val_accuracy: 1.0000 - val_loss: 4.3553e-07\n",
      "Epoch 7/10\n",
      "\u001b[1m8/8\u001b[0m \u001b[32m━━━━━━━━━━━━━━━━━━━━\u001b[0m\u001b[37m\u001b[0m \u001b[1m0s\u001b[0m 6ms/step - accuracy: 1.0000 - loss: 4.1732e-05 - val_accuracy: 1.0000 - val_loss: 3.0848e-07\n",
      "Epoch 8/10\n",
      "\u001b[1m8/8\u001b[0m \u001b[32m━━━━━━━━━━━━━━━━━━━━\u001b[0m\u001b[37m\u001b[0m \u001b[1m0s\u001b[0m 6ms/step - accuracy: 1.0000 - loss: 4.9505e-04 - val_accuracy: 1.0000 - val_loss: 2.5203e-07\n",
      "Epoch 9/10\n",
      "\u001b[1m8/8\u001b[0m \u001b[32m━━━━━━━━━━━━━━━━━━━━\u001b[0m\u001b[37m\u001b[0m \u001b[1m0s\u001b[0m 6ms/step - accuracy: 1.0000 - loss: 0.0012 - val_accuracy: 1.0000 - val_loss: 2.0245e-07\n",
      "Epoch 10/10\n",
      "\u001b[1m8/8\u001b[0m \u001b[32m━━━━━━━━━━━━━━━━━━━━\u001b[0m\u001b[37m\u001b[0m \u001b[1m0s\u001b[0m 6ms/step - accuracy: 1.0000 - loss: 3.4665e-04 - val_accuracy: 1.0000 - val_loss: 1.6260e-07\n"
     ]
    }
   ],
   "source": [
    "# Train model\n",
    "history = model.fit(\n",
    "    x_train, y_train,\n",
    "    epochs=10,\n",
    "    batch_size=32,\n",
    "    validation_split=0.2,\n",
    "    verbose=1\n",
    ")"
   ]
  },
  {
   "cell_type": "code",
   "execution_count": 36,
   "metadata": {},
   "outputs": [
    {
     "name": "stdout",
     "output_type": "stream",
     "text": [
      "\n",
      "Test accuracy: 1.0000\n"
     ]
    },
    {
     "data": {
      "image/png": "[encoded data removed]",
      "text/plain": [
       "<Figure size 1200x400 with 2 Axes>"
      ]
     },
     "metadata": {},
     "output_type": "display_data"
    }
   ],
   "source": [
    "# export the tf model file \n",
    "import matplotlib.pyplot as plt\n",
    "# Evaluate model\n",
    "test_loss, test_accuracy = model.evaluate(x_test, y_test, verbose=0)\n",
    "print(f\"\\nTest accuracy: {test_accuracy:.4f}\")\n",
    "\n",
    "# Plot training history\n",
    "plt.figure(figsize=(12, 4))\n",
    "\n",
    "plt.subplot(1, 2, 1)\n",
    "plt.plot(history.history['accuracy'], label='Training')\n",
    "plt.plot(history.history['val_accuracy'], label='Validation')\n",
    "plt.title('Model Accuracy')\n",
    "plt.xlabel('Epoch')\n",
    "plt.ylabel('Accuracy')\n",
    "plt.legend()\n",
    "\n",
    "plt.subplot(1, 2, 2)\n",
    "plt.plot(history.history['loss'], label='Training')\n",
    "plt.plot(history.history['val_loss'], label='Validation')\n",
    "plt.title('Model Loss')\n",
    "plt.xlabel('Epoch')\n",
    "plt.ylabel('Loss')\n",
    "plt.legend()\n",
    "\n",
    "plt.tight_layout()"
   ]
  },
  {
   "cell_type": "code",
   "execution_count": 42,
   "metadata": {},
   "outputs": [
    {
     "name": "stdout",
     "output_type": "stream",
     "text": [
      "Saved files:\n",
      "- gesture_model.keras\n",
      "- scaler.save\n",
      "- label_encoder.save\n"
     ]
    }
   ],
   "source": [
    "# Save the scaler\n",
    "import joblib\n",
    "joblib.dump(scaler, 'scaler.save')\n",
    "\n",
    "# Save the model\n",
    "model.save('gesture_model.keras')\n",
    "\n",
    "# Save the label encoder\n",
    "joblib.dump(label_encoder, 'label_encoder.save')\n",
    "\n",
    "print(\"Saved files:\")\n",
    "print(\"- gesture_model.keras\")\n",
    "print(\"- scaler.save\")\n",
    "print(\"- label_encoder.save\")"
   ]
  }
 ],
 "metadata": {
  "kernelspec": {
   "display_name": "base",
   "language": "python",
   "name": "python3"
  },
  "language_info": {
   "codemirror_mode": {
    "name": "ipython",
    "version": 3
   },
   "file_extension": ".py",
   "mimetype": "text/x-python",
   "name": "python",
   "nbconvert_exporter": "python",
   "pygments_lexer": "ipython3",
   "version": "3.11.5"
  }
 },
 "nbformat": 4,
 "nbformat_minor": 2
}
